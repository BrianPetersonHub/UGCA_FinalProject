{
 "cells": [
  {
   "cell_type": "markdown",
   "metadata": {},
   "source": [
    "## Sentiment Analysis"
   ]
  },
  {
   "cell_type": "markdown",
   "metadata": {},
   "source": [
    "#### Load Data"
   ]
  },
  {
   "cell_type": "code",
   "execution_count": 1,
   "metadata": {},
   "outputs": [],
   "source": [
    "import json\n",
    "import pandas as pd\n",
    "import numpy as np"
   ]
  },
  {
   "cell_type": "code",
   "execution_count": 2,
   "metadata": {},
   "outputs": [],
   "source": [
    "with open(\"final_project/UGCA_FinalProject/camera_reviews_full.json\") as f:\n",
    "    f1= json.load(f)"
   ]
  },
  {
   "cell_type": "code",
   "execution_count": 3,
   "metadata": {},
   "outputs": [
    {
     "data": {
      "text/plain": [
       "3490"
      ]
     },
     "execution_count": 3,
     "metadata": {},
     "output_type": "execute_result"
    }
   ],
   "source": [
    "len(f1)"
   ]
  },
  {
   "cell_type": "code",
   "execution_count": 5,
   "metadata": {},
   "outputs": [
    {
     "data": {
      "text/plain": [
       "{'author': 'EeeTee',\n",
       " 'author_attributes': ['Verified Purchase', 'Member'],\n",
       " 'rating': '5',\n",
       " 'review_title': 'Great intro level DSLR',\n",
       " 'review': \"This camera is a full featured entry level DSLR - if you are a seasoned pro you'll want to go with one of the pricier models, but if you are new to DSLR cameras and are looking to step up from a point and shoot camera to something much more powerful, this is a fine first step. \\nThis camera gives you full control over most parameters of your photography, but includes a broad spectrum of presets and automation as well that lets you work your way up to using all the manual tools - if you are a beginner, this camera will carry you for a few years before you begin chafing for something a bit more substantial!\\nThe camera body is light and solidly built - all the controls are accessible via buttons on the exterior of the camera as well as through an easily navigable menu. The view screen is generous and bright, easily readable in most settings. The camera also offers a viewfinder which is very helpful when shooting in high glare settings (or when you forget to bring your glasses with you!) \\nThe included lenses cover a good range of distances, but you may want to invest in a wide angle lens - a good 12-20mm for getting more into your images (although most of the better ones out there will actually cost more than your camera did). The 75-300mm zoom lens will get you in close to many subjects, but don't expect it to compete with some of those 80x zooms you see on point and shoot cameras! \\nChanging out lenses is easy and fast.\\nThere are ample settings for one shot, continuous shot, and timed delay shooting, so if you are shooting an active event you can get some great movement shots, and if you want to get into the picture yourself, its easy to do. When shooting in continuous mode, the camera will pause after five shots to let the data catch up - I've found that three shots is the gets keeps me from getting that delay.\\nBoth of these lenses shoot a little on the slow side. There is a slight hesitation after pressing the shutter release. I've also noticed that although the 18-55mm kit lens is equipped with an anti-shake feature, it really doesn't do much. So - consider adding a tripod to your purchase too!\\nThe picture quality is excellent - I always shoot in RAW and this camera offers six RAW quality settings and the same for JPEG. Or you can choose to shoot both simultaneously if you don't know a lot about the formats and want to learn. Its great to have both formats to do side by side comparisons. \\nThis camera does not have an infrared sensor, so if you wish to use a remote, you'll have to use the Canon Camera Connect mobile app - it is available for both IOS and Android devices (sadly not for Windows 10 mobile devices though!). In addition to letting you control your camera remotely, the mobile apps also let you view the pictures on your camera on the bigger screens of your smartphone (I use my iPad - and its great to see a real time image for composition on that screen - believe me!) The app is pretty easy to use and so far I've found it to be stable and reliable, although more so on my iPad than on my Android phone. \\nThis camera is also capable of shooting HD movies and that is a terrific feature - but keep in mind, you'll have to master your lenses in order to stay in focus and do efficient zooms and pans. \\nOverall this is a great camera. Canon lenses can be used on all their DSLR's, so when you are ready to upgrade to a more professional camera back, you'll be able to keep your lens kit and accessories.\",\n",
       " 'date': 'Dec 31, 2016 2:44 PM',\n",
       " 'recommend': ' I would recommend this to a friend',\n",
       " 'helpful': '102',\n",
       " 'not_helpful': '9'}"
      ]
     },
     "execution_count": 5,
     "metadata": {},
     "output_type": "execute_result"
    }
   ],
   "source": [
    "f1['1']"
   ]
  },
  {
   "cell_type": "code",
   "execution_count": 57,
   "metadata": {},
   "outputs": [
    {
     "data": {
      "text/plain": [
       "{'author': 'Cj2290',\n",
       " 'author_attributes': ['Elite Member'],\n",
       " 'rating': '5',\n",
       " 'review_title': 'Great camera',\n",
       " 'review': 'Love love love this camera. I came in just for the camera it self but was told about this bundle with a extra bigger lens for a bit more money and I gladly took it. I bought it to use at a special occasion and everyone loved how the pictures came out so nice a clear',\n",
       " 'date': 'Jul 13, 2016 8:07 AM',\n",
       " 'recommend': ' I would recommend this to a friend',\n",
       " 'helpful': '3',\n",
       " 'not_helpful': '0'}"
      ]
     },
     "execution_count": 57,
     "metadata": {},
     "output_type": "execute_result"
    }
   ],
   "source": [
    "f1['274']"
   ]
  },
  {
   "cell_type": "markdown",
   "metadata": {},
   "source": [
    "#### Clean Data"
   ]
  },
  {
   "cell_type": "code",
   "execution_count": 7,
   "metadata": {},
   "outputs": [
    {
     "data": {
      "text/plain": [
       "(3459, 31)"
      ]
     },
     "execution_count": 7,
     "metadata": {},
     "output_type": "execute_result"
    }
   ],
   "source": [
    "verified_reviews = []\n",
    "non_verified_reviews = []\n",
    "for i in range(1, len(f1)+1):\n",
    "    if 'Verified Purchase' in f1[str(i)][ 'author_attributes']:\n",
    "        row1 = f1[str(i)][ 'review']\n",
    "        verified_reviews.append(row1)\n",
    "    else:\n",
    "        row2 = f1[str(i)][ 'review']\n",
    "        non_verified_reviews.append(row2)\n",
    "        \n",
    "len(verified_reviews), len(non_verified_reviews)\n",
    "   "
   ]
  },
  {
   "cell_type": "code",
   "execution_count": 69,
   "metadata": {},
   "outputs": [
    {
     "data": {
      "text/plain": [
       "(2103, 1298)"
      ]
     },
     "execution_count": 69,
     "metadata": {},
     "output_type": "execute_result"
    }
   ],
   "source": [
    "Verified_member_reviews = []\n",
    "Verified_Elite_member_reviews = []\n",
    "\n",
    "for i in range(1, len(f1)+1):\n",
    "    if 'Verified Purchase' in f1[str(i)][ 'author_attributes'] and 'Member' in f1[str(i)]['author_attributes']:\n",
    "        row1 = f1[str(i)][ 'review']\n",
    "        Verified_member_reviews.append(row1)\n",
    "    elif 'Verified Purchase' in f1[str(i)][ 'author_attributes'] and 'Elite Member' in f1[str(i)]['author_attributes']:\n",
    "        row2 = f1[str(i)]['review']\n",
    "        Verified_Elite_member_reviews.append(row2)\n",
    "    elif 'Verified Purchase' in f1[str(i)][ 'author_attributes'] and 'Elite Plus Member' in f1[str(i)]['author_attributes']:\n",
    "        row3 = f1[str(i)]['review']\n",
    "        Verified_Elite_member_reviews.append(row3)\n",
    "        \n",
    "len(Verified_member_reviews), len(Verified_Elite_member_reviews)\n"
   ]
  },
  {
   "cell_type": "code",
   "execution_count": 8,
   "metadata": {},
   "outputs": [],
   "source": [
    "from nltk.corpus import stopwords\n",
    "from nltk.corpus import brown\n",
    "from nltk.tokenize import word_tokenize,sent_tokenize\n",
    "from string import punctuation, digits\n",
    "from collections import Counter"
   ]
  },
  {
   "cell_type": "code",
   "execution_count": 9,
   "metadata": {},
   "outputs": [],
   "source": [
    "stopwords_set = set(stopwords.words('english'))\n",
    "brown_set = set(brown.words())\n",
    "characterstoclean = r'?!,:,/\\\"-+=@#$%^&*()><{}[]|' + r\"'\"\n",
    "punc = punctuation"
   ]
  },
  {
   "cell_type": "code",
   "execution_count": 10,
   "metadata": {},
   "outputs": [
    {
     "data": {
      "text/plain": [
       "(3459, 31)"
      ]
     },
     "execution_count": 10,
     "metadata": {},
     "output_type": "execute_result"
    }
   ],
   "source": [
    "verified_reviews=list(map(lambda x: x.lower(), verified_reviews))\n",
    "non_verified_reviews=list(map(lambda x: x.lower(), non_verified_reviews))\n",
    "len(verified_reviews), len(non_verified_reviews)"
   ]
  },
  {
   "cell_type": "code",
   "execution_count": 70,
   "metadata": {},
   "outputs": [
    {
     "data": {
      "text/plain": [
       "(2103, 1298)"
      ]
     },
     "execution_count": 70,
     "metadata": {},
     "output_type": "execute_result"
    }
   ],
   "source": [
    "verified_member_reviews=list(map(lambda x: x.lower(), Verified_member_reviews))\n",
    "verified_Elite_member_reviews=list(map(lambda x: x.lower(), Verified_Elite_member_reviews))\n",
    "len(verified_member_reviews), len(verified_Elite_member_reviews)"
   ]
  },
  {
   "cell_type": "code",
   "execution_count": 11,
   "metadata": {},
   "outputs": [
    {
     "data": {
      "text/plain": [
       "3459"
      ]
     },
     "execution_count": 11,
     "metadata": {},
     "output_type": "execute_result"
    }
   ],
   "source": [
    "row = str()\n",
    "verified_review_list = []\n",
    "for re in verified_reviews :\n",
    "    for word in word_tokenize(re):\n",
    "         if word in brown_set  and word not in stopwords_set and word not in characterstoclean and word not in punc and not word.isdigit() and word.isalpha():\n",
    "                row = row +' '+word\n",
    "    verified_review_list.append(row)\n",
    "len(verified_review_list)"
   ]
  },
  {
   "cell_type": "code",
   "execution_count": 12,
   "metadata": {},
   "outputs": [
    {
     "data": {
      "text/plain": [
       "31"
      ]
     },
     "execution_count": 12,
     "metadata": {},
     "output_type": "execute_result"
    }
   ],
   "source": [
    "row = str()\n",
    "non_verified_review_list = []\n",
    "for re in non_verified_reviews :\n",
    "    for word in word_tokenize(re):\n",
    "         if word in brown_set  and word not in stopwords_set and word not in characterstoclean and word not in punc and not word.isdigit() and word.isalpha():\n",
    "                row = row +' '+word\n",
    "    non_verified_review_list.append(row)\n",
    "len(non_verified_review_list)"
   ]
  },
  {
   "cell_type": "code",
   "execution_count": 51,
   "metadata": {},
   "outputs": [
    {
     "data": {
      "text/plain": [
       "2103"
      ]
     },
     "execution_count": 51,
     "metadata": {},
     "output_type": "execute_result"
    }
   ],
   "source": [
    "row = str()\n",
    "verified_member_review_list = []\n",
    "for re in verified_member_reviews:\n",
    "    for word in word_tokenize(re):\n",
    "         if word in brown_set  and word not in stopwords_set and word not in characterstoclean and word not in punc and not word.isdigit() and word.isalpha():\n",
    "                row = row +' '+word\n",
    "    verified_member_review_list.append(row)\n",
    "len(verified_member_review_list)"
   ]
  },
  {
   "cell_type": "code",
   "execution_count": 71,
   "metadata": {},
   "outputs": [
    {
     "data": {
      "text/plain": [
       "1298"
      ]
     },
     "execution_count": 71,
     "metadata": {},
     "output_type": "execute_result"
    }
   ],
   "source": [
    "row = str()\n",
    "verified_elite_member_review_list = []\n",
    "for re in verified_Elite_member_reviews:\n",
    "    for word in word_tokenize(re):\n",
    "         if word in brown_set  and word not in stopwords_set and word not in characterstoclean and word not in punc and not word.isdigit() and word.isalpha():\n",
    "                row = row +' '+word\n",
    "    verified_elite_member_review_list.append(row)\n",
    "len(verified_elite_member_review_list)"
   ]
  },
  {
   "cell_type": "code",
   "execution_count": 13,
   "metadata": {},
   "outputs": [
    {
     "data": {
      "text/plain": [
       "(' camera full featured entry level seasoned pro want go one models new cameras looking step point shoot camera something much powerful fine first step camera gives full control parameters photography includes broad spectrum automation well lets work way using manual tools beginner camera carry years begin chafing something bit substantial camera body light solidly built controls accessible via buttons exterior camera well easily navigable menu view screen generous bright easily readable settings camera also offers helpful shooting high glare settings forget bring glasses included lenses cover good range distances may want invest wide angle lens good getting images although better ones actually cost camera lens get close many subjects expect compete zooms see point shoot cameras changing lenses easy fast ample settings one shot continuous shot timed delay shooting shooting active event get great movement shots want get picture easy shooting continuous mode camera pause five shots let data catch found three shots gets keeps getting delay lenses shoot little slow side slight hesitation pressing shutter release also noticed although kit lens equipped feature really much consider adding tripod purchase picture quality excellent always shoot raw camera offers six raw quality settings choose shoot simultaneously know lot formats want learn great formats side side comparisons camera infrared sensor wish use remote use canon camera connect mobile available devices sadly windows mobile devices though addition letting control camera remotely mobile also let view pictures camera bigger screens use great see real time image composition screen believe pretty easy use far found stable reliable although phone camera also capable shooting movies terrific feature keep mind master lenses order stay focus efficient zooms pans overall great camera canon lenses used ready upgrade professional camera back able keep lens kit accessories',\n",
       " ' great starter camera kit comes everything need minus memory card take great pictures even get bag room camera extras heard read many horror stories kit lenses pretty good even low light kit perfect beginner someone savvy want make big camera lot bells likely use buy lenses separately easy navigate learn use especially coming canon point shoot like went learned lot watching went canons helpful canon makes huge variety lenses interchangeable camera bodies problem upgrading picking lenses better quality suited shooting different things choose probably pick lens shortly fairly light easy carry compared many seen nice often canon camera connect works transferring photos computer phone tablet personally love downfall camera video quality may get somewhat better better quality lens right comparable galaxy edge takes entry level would realistic expect take extremely high quality video good easy learn starter camera kit reasonable price going find recommend')"
      ]
     },
     "execution_count": 13,
     "metadata": {},
     "output_type": "execute_result"
    }
   ],
   "source": [
    "verified_review_list[0], non_verified_review_list[0]"
   ]
  },
  {
   "cell_type": "markdown",
   "metadata": {},
   "source": [
    "#### Calculate Sentiment Score"
   ]
  },
  {
   "cell_type": "code",
   "execution_count": 29,
   "metadata": {},
   "outputs": [],
   "source": [
    "from textblob import TextBlob "
   ]
  },
  {
   "cell_type": "code",
   "execution_count": 40,
   "metadata": {},
   "outputs": [
    {
     "data": {
      "text/plain": [
       "(3459, 31)"
      ]
     },
     "execution_count": 40,
     "metadata": {},
     "output_type": "execute_result"
    }
   ],
   "source": [
    "score1=[]\n",
    "score2=[]\n",
    "for j in range(0, len(verified_review_list)):\n",
    "    obj = TextBlob(verified_review_list[j])\n",
    "    score1.append(obj.sentiment.polarity)\n",
    "\n",
    "for j in range(0, len(non_verified_review_list)):\n",
    "    obj = TextBlob(non_verified_review_list[j])\n",
    "    score2.append(obj.sentiment.polarity)\n",
    "    \n",
    "len(score1), len(score2)"
   ]
  },
  {
   "cell_type": "code",
   "execution_count": 72,
   "metadata": {},
   "outputs": [
    {
     "data": {
      "text/plain": [
       "(2103, 1298)"
      ]
     },
     "execution_count": 72,
     "metadata": {},
     "output_type": "execute_result"
    }
   ],
   "source": [
    "score3=[]\n",
    "score4=[]\n",
    "for j in range(0, len(verified_member_review_list)):\n",
    "    obj = TextBlob(verified_member_review_list[j])\n",
    "    score3.append(obj.sentiment.polarity)\n",
    "\n",
    "for j in range(0, len(verified_elite_member_review_list)):\n",
    "    obj = TextBlob(verified_elite_member_review_list[j])\n",
    "    score4.append(obj.sentiment.polarity)\n",
    "    \n",
    "len(score3), len(score4)"
   ]
  },
  {
   "cell_type": "code",
   "execution_count": 73,
   "metadata": {},
   "outputs": [],
   "source": [
    "sentiment_score = []\n",
    "combination = []"
   ]
  },
  {
   "cell_type": "code",
   "execution_count": 74,
   "metadata": {},
   "outputs": [
    {
     "data": {
      "text/plain": [
       "[0.3985083947789504,\n",
       " 0.28854600469072983,\n",
       " 0.3946900698563273,\n",
       " 0.40440785082351594]"
      ]
     },
     "execution_count": 74,
     "metadata": {},
     "output_type": "execute_result"
    }
   ],
   "source": [
    "sentiment_score.append(sum(score1)/len(score1))\n",
    "sentiment_score.append(sum(score2)/len(score2))\n",
    "sentiment_score.append(sum(score3)/len(score3))\n",
    "sentiment_score.append(sum(score4)/len(score4))\n",
    "sentiment_score"
   ]
  },
  {
   "cell_type": "code",
   "execution_count": null,
   "metadata": {},
   "outputs": [],
   "source": [
    "\n",
    "for i in range(len(sentiment_score)):\n",
    "    if  sentiment_score[i]> 0:\n",
    "           return 'positive'\n",
    "    elif analysis.sentiment.polarity == 0:\n",
    "           return 'neutral'\n",
    "    else:\n",
    "           return 'negative'"
   ]
  },
  {
   "cell_type": "code",
   "execution_count": 81,
   "metadata": {},
   "outputs": [
    {
     "data": {
      "text/html": [
       "<div>\n",
       "<style scoped>\n",
       "    .dataframe tbody tr th:only-of-type {\n",
       "        vertical-align: middle;\n",
       "    }\n",
       "\n",
       "    .dataframe tbody tr th {\n",
       "        vertical-align: top;\n",
       "    }\n",
       "\n",
       "    .dataframe thead th {\n",
       "        text-align: right;\n",
       "    }\n",
       "</style>\n",
       "<table border=\"1\" class=\"dataframe\">\n",
       "  <thead>\n",
       "    <tr style=\"text-align: right;\">\n",
       "      <th></th>\n",
       "      <th>Score</th>\n",
       "      <th>Sentiment</th>\n",
       "    </tr>\n",
       "  </thead>\n",
       "  <tbody>\n",
       "    <tr>\n",
       "      <th>Verified Purchase</th>\n",
       "      <td>0.398508</td>\n",
       "      <td>Positive</td>\n",
       "    </tr>\n",
       "    <tr>\n",
       "      <th>Non Verified Purchase</th>\n",
       "      <td>0.288546</td>\n",
       "      <td>Positive</td>\n",
       "    </tr>\n",
       "    <tr>\n",
       "      <th>Verified Purchase with Member</th>\n",
       "      <td>0.394690</td>\n",
       "      <td>Positive</td>\n",
       "    </tr>\n",
       "    <tr>\n",
       "      <th>Verified Purchase with Elite Member or Plus</th>\n",
       "      <td>0.404408</td>\n",
       "      <td>Positive</td>\n",
       "    </tr>\n",
       "  </tbody>\n",
       "</table>\n",
       "</div>"
      ],
      "text/plain": [
       "                                                Score Sentiment\n",
       "Verified Purchase                            0.398508  Positive\n",
       "Non Verified Purchase                        0.288546  Positive\n",
       "Verified Purchase with Member                0.394690  Positive\n",
       "Verified Purchase with Elite Member or Plus  0.404408  Positive"
      ]
     },
     "execution_count": 81,
     "metadata": {},
     "output_type": "execute_result"
    }
   ],
   "source": [
    "sentiment_score_chart = pd.DataFrame(sentiment_score, columns=[\"Score\"], index=[\"Verified Purchase\",\"Non Verified Purchase\",\"Verified Purchase with Member\",\"Verified Purchase with Elite Member or Plus\"])\n",
    "for score in sentiment_score_chart[\"Score\"]:\n",
    "    if  score > 0:\n",
    "        sentiment_score_chart[\"Sentiment\"] = \"Positive\"\n",
    "    elif score == 0:\n",
    "        sentiment_score_chart[\"Sentiment\"] = \"Neutral\"\n",
    "    else:\n",
    "        sentiment_score_chart[\"Sentiment\"] = \"Negative\"\n",
    "sentiment_score_chart"
   ]
  },
  {
   "cell_type": "markdown",
   "metadata": {},
   "source": [
    "__Conclusion: The reviews of verified purchase and reviews of non-verified purchase are all positive. The reviews of verified purchase has a greater sentiment score than reviews of non-verified purchase which means the reviews of verified purchase are more positive. __\n",
    "__ Among the reviews of verified purchase with different memberships, the reviews from Elite Members and Elite Plus Members are more positive than reviews from general Members.__"
   ]
  },
  {
   "cell_type": "code",
   "execution_count": null,
   "metadata": {},
   "outputs": [],
   "source": []
  }
 ],
 "metadata": {
  "kernelspec": {
   "display_name": "Python 3",
   "language": "python",
   "name": "python3"
  },
  "language_info": {
   "codemirror_mode": {
    "name": "ipython",
    "version": 3
   },
   "file_extension": ".py",
   "mimetype": "text/x-python",
   "name": "python",
   "nbconvert_exporter": "python",
   "pygments_lexer": "ipython3",
   "version": "3.6.5"
  }
 },
 "nbformat": 4,
 "nbformat_minor": 2
}
